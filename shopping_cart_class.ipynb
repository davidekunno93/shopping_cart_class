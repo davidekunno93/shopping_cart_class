{
 "cells": [
  {
   "cell_type": "code",
   "execution_count": 56,
   "id": "d62015d5",
   "metadata": {},
   "outputs": [
    {
     "name": "stdout",
     "output_type": "stream",
     "text": [
      "Hi Brandt,\n",
      "\n"
     ]
    },
    {
     "ename": "KeyboardInterrupt",
     "evalue": "Interrupted by user",
     "output_type": "error",
     "traceback": [
      "\u001b[1;31m---------------------------------------------------------------------------\u001b[0m",
      "\u001b[1;31mKeyboardInterrupt\u001b[0m                         Traceback (most recent call last)",
      "Cell \u001b[1;32mIn[56], line 86\u001b[0m\n\u001b[0;32m     81\u001b[0m             \u001b[38;5;28;01mbreak\u001b[39;00m\n\u001b[0;32m     84\u001b[0m user_cart \u001b[38;5;241m=\u001b[39m Cart(\u001b[38;5;124m\"\u001b[39m\u001b[38;5;124mBrandt\u001b[39m\u001b[38;5;124m\"\u001b[39m) \n\u001b[1;32m---> 86\u001b[0m \u001b[43muser_cart\u001b[49m\u001b[38;5;241;43m.\u001b[39;49m\u001b[43mmenu\u001b[49m\u001b[43m(\u001b[49m\u001b[43m)\u001b[49m\n",
      "Cell \u001b[1;32mIn[56], line 63\u001b[0m, in \u001b[0;36mCart.menu\u001b[1;34m(self)\u001b[0m\n\u001b[0;32m     61\u001b[0m \u001b[38;5;66;03m# While loop keeps program returning to first question until user quits\u001b[39;00m\n\u001b[0;32m     62\u001b[0m \u001b[38;5;28;01mwhile\u001b[39;00m \u001b[38;5;28;01mTrue\u001b[39;00m:\n\u001b[1;32m---> 63\u001b[0m     menu \u001b[38;5;241m=\u001b[39m \u001b[38;5;28;43minput\u001b[39;49m\u001b[43m(\u001b[49m\u001b[38;5;124;43m\"\u001b[39;49m\u001b[38;5;124;43mWould you like to:\u001b[39;49m\u001b[38;5;130;43;01m\\n\u001b[39;49;00m\u001b[38;5;130;43;01m\\t\u001b[39;49;00m\u001b[38;5;124;43m'\u001b[39;49m\u001b[38;5;124;43ms\u001b[39;49m\u001b[38;5;124;43m'\u001b[39;49m\u001b[38;5;124;43m - Show current shopping cart?\u001b[39;49m\u001b[38;5;130;43;01m\\n\u001b[39;49;00m\u001b[38;5;130;43;01m\\t\u001b[39;49;00m\u001b[38;5;124;43m'\u001b[39;49m\u001b[38;5;124;43ma\u001b[39;49m\u001b[38;5;124;43m'\u001b[39;49m\u001b[38;5;124;43m - Add to shopping cart?\u001b[39;49m\u001b[38;5;130;43;01m\\n\u001b[39;49;00m\u001b[38;5;130;43;01m\\t\u001b[39;49;00m\u001b[38;5;124;43m'\u001b[39;49m\u001b[38;5;124;43md\u001b[39;49m\u001b[38;5;124;43m'\u001b[39;49m\u001b[38;5;124;43m - Delete an item?\u001b[39;49m\u001b[38;5;130;43;01m\\n\u001b[39;49;00m\u001b[38;5;130;43;01m\\t\u001b[39;49;00m\u001b[38;5;124;43m'\u001b[39;49m\u001b[38;5;124;43mq\u001b[39;49m\u001b[38;5;124;43m'\u001b[39;49m\u001b[38;5;124;43m - Quit?\u001b[39;49m\u001b[38;5;130;43;01m\\n\u001b[39;49;00m\u001b[38;5;124;43m \u001b[39;49m\u001b[38;5;124;43m\"\u001b[39;49m\u001b[43m)\u001b[49m\n\u001b[0;32m     64\u001b[0m     \u001b[38;5;28;01mif\u001b[39;00m menu\u001b[38;5;241m.\u001b[39mlower() \u001b[38;5;241m==\u001b[39m \u001b[38;5;124m\"\u001b[39m\u001b[38;5;124ms\u001b[39m\u001b[38;5;124m\"\u001b[39m:\n\u001b[0;32m     65\u001b[0m         \u001b[38;5;28mself\u001b[39m\u001b[38;5;241m.\u001b[39mshow()\n",
      "File \u001b[1;32m~\\anaconda3\\lib\\site-packages\\ipykernel\\kernelbase.py:1175\u001b[0m, in \u001b[0;36mKernel.raw_input\u001b[1;34m(self, prompt)\u001b[0m\n\u001b[0;32m   1171\u001b[0m \u001b[38;5;28;01mif\u001b[39;00m \u001b[38;5;129;01mnot\u001b[39;00m \u001b[38;5;28mself\u001b[39m\u001b[38;5;241m.\u001b[39m_allow_stdin:\n\u001b[0;32m   1172\u001b[0m     \u001b[38;5;28;01mraise\u001b[39;00m StdinNotImplementedError(\n\u001b[0;32m   1173\u001b[0m         \u001b[38;5;124m\"\u001b[39m\u001b[38;5;124mraw_input was called, but this frontend does not support input requests.\u001b[39m\u001b[38;5;124m\"\u001b[39m\n\u001b[0;32m   1174\u001b[0m     )\n\u001b[1;32m-> 1175\u001b[0m \u001b[38;5;28;01mreturn\u001b[39;00m \u001b[38;5;28;43mself\u001b[39;49m\u001b[38;5;241;43m.\u001b[39;49m\u001b[43m_input_request\u001b[49m\u001b[43m(\u001b[49m\n\u001b[0;32m   1176\u001b[0m \u001b[43m    \u001b[49m\u001b[38;5;28;43mstr\u001b[39;49m\u001b[43m(\u001b[49m\u001b[43mprompt\u001b[49m\u001b[43m)\u001b[49m\u001b[43m,\u001b[49m\n\u001b[0;32m   1177\u001b[0m \u001b[43m    \u001b[49m\u001b[38;5;28;43mself\u001b[39;49m\u001b[38;5;241;43m.\u001b[39;49m\u001b[43m_parent_ident\u001b[49m\u001b[43m[\u001b[49m\u001b[38;5;124;43m\"\u001b[39;49m\u001b[38;5;124;43mshell\u001b[39;49m\u001b[38;5;124;43m\"\u001b[39;49m\u001b[43m]\u001b[49m\u001b[43m,\u001b[49m\n\u001b[0;32m   1178\u001b[0m \u001b[43m    \u001b[49m\u001b[38;5;28;43mself\u001b[39;49m\u001b[38;5;241;43m.\u001b[39;49m\u001b[43mget_parent\u001b[49m\u001b[43m(\u001b[49m\u001b[38;5;124;43m\"\u001b[39;49m\u001b[38;5;124;43mshell\u001b[39;49m\u001b[38;5;124;43m\"\u001b[39;49m\u001b[43m)\u001b[49m\u001b[43m,\u001b[49m\n\u001b[0;32m   1179\u001b[0m \u001b[43m    \u001b[49m\u001b[43mpassword\u001b[49m\u001b[38;5;241;43m=\u001b[39;49m\u001b[38;5;28;43;01mFalse\u001b[39;49;00m\u001b[43m,\u001b[49m\n\u001b[0;32m   1180\u001b[0m \u001b[43m\u001b[49m\u001b[43m)\u001b[49m\n",
      "File \u001b[1;32m~\\anaconda3\\lib\\site-packages\\ipykernel\\kernelbase.py:1217\u001b[0m, in \u001b[0;36mKernel._input_request\u001b[1;34m(self, prompt, ident, parent, password)\u001b[0m\n\u001b[0;32m   1214\u001b[0m             \u001b[38;5;28;01mbreak\u001b[39;00m\n\u001b[0;32m   1215\u001b[0m \u001b[38;5;28;01mexcept\u001b[39;00m \u001b[38;5;167;01mKeyboardInterrupt\u001b[39;00m:\n\u001b[0;32m   1216\u001b[0m     \u001b[38;5;66;03m# re-raise KeyboardInterrupt, to truncate traceback\u001b[39;00m\n\u001b[1;32m-> 1217\u001b[0m     \u001b[38;5;28;01mraise\u001b[39;00m \u001b[38;5;167;01mKeyboardInterrupt\u001b[39;00m(\u001b[38;5;124m\"\u001b[39m\u001b[38;5;124mInterrupted by user\u001b[39m\u001b[38;5;124m\"\u001b[39m) \u001b[38;5;28;01mfrom\u001b[39;00m \u001b[38;5;28mNone\u001b[39m\n\u001b[0;32m   1218\u001b[0m \u001b[38;5;28;01mexcept\u001b[39;00m \u001b[38;5;167;01mException\u001b[39;00m:\n\u001b[0;32m   1219\u001b[0m     \u001b[38;5;28mself\u001b[39m\u001b[38;5;241m.\u001b[39mlog\u001b[38;5;241m.\u001b[39mwarning(\u001b[38;5;124m\"\u001b[39m\u001b[38;5;124mInvalid Message:\u001b[39m\u001b[38;5;124m\"\u001b[39m, exc_info\u001b[38;5;241m=\u001b[39m\u001b[38;5;28;01mTrue\u001b[39;00m)\n",
      "\u001b[1;31mKeyboardInterrupt\u001b[0m: Interrupted by user"
     ]
    }
   ],
   "source": [
    "# Exercise 1 - Turn the shopping cart program from yesterday into an object-oriented program\n",
    "\n",
    "from random import choice\n",
    "\n",
    "class Cart():\n",
    "    \"\"\"\n",
    "    Shopping cart class allows you to add items, delete items and show items in your shopping cart.\n",
    "    Hit 'q' at any time to go back or exit menu option.\n",
    "    \"\"\"\n",
    "    suggest_more = [\"Would you like to add another item to your cart?\", \"Go on, add another item...\",\"Add one more?\", \"What else would you like to add?\", \"Anything else you'd like to add?\", \"Hmm, you might need more than one...\",\"Maybe you should get one more just in case\",\"Let's add something else\",\"Add another one, I dare ya...\"]\n",
    "    \n",
    "    def __init__(self, user_name, items={}):\n",
    "        self.user = user_name\n",
    "        self.cart = items\n",
    "        \n",
    "    def show(self):\n",
    "        if self.cart:\n",
    "            print(self.cart)\n",
    "        else:\n",
    "            print(\"There are currently no items in your cart\")\n",
    "\n",
    "    def add(self):\n",
    "        while True:\n",
    "            item = input(\"Enter an item: \")\n",
    "            item = item.title()\n",
    "            if item == \"Q\":\n",
    "                break\n",
    "            else:\n",
    "                try:\n",
    "                    if item not in self.cart:\n",
    "                        self.cart[item] = 1\n",
    "                    else:\n",
    "                        self.cart[item] += 1\n",
    "                finally:\n",
    "                    print(\"\\n>\"+choice(self.suggest_more)+\" ('q' to go back)\")\n",
    "    \n",
    "    def delete(self):\n",
    "        print(\"\")\n",
    "        self.show()\n",
    "        if self.cart:\n",
    "            while True:\n",
    "                item_del = input(\"Enter the item you would like to delete ('q' to go back): \")\n",
    "                item_del = item_del.title()\n",
    "                if item_del == \"Q\":\n",
    "                    break\n",
    "                else:\n",
    "                    if item_del in self.cart:\n",
    "                        if self.cart[item_del] == 1:\n",
    "                            del(self.cart[item_del])\n",
    "                            print(f\"\\t'{item_del}' has been removed from the cart\\n\")\n",
    "                        else:\n",
    "                            self.cart[item_del] -= 1\n",
    "                            print(f\"\\tThe quantity of '{item_del}' has been reduced to {self.cart[item_del]}\\n\")\n",
    "                        print(\">Would you like to delete another item?\")\n",
    "                    else:\n",
    "                        print(f\"'{item_del}' is not currently in your cart\")\n",
    "            \n",
    "                    \n",
    "    def menu(self):\n",
    "        print(f\"Hi {self.user},\\n\")\n",
    "        # While loop keeps program returning to first question until user quits\n",
    "        while True:\n",
    "            menu = input(\"Would you like to:\\n\\t's' - Show current shopping cart?\\n\\t'a' - Add to shopping cart?\\n\\t'd' - Delete an item?\\n\\t'q' - Quit?\\n \")\n",
    "            if menu.lower() == \"s\":\n",
    "                self.show()\n",
    "                continue\n",
    "            elif menu.lower() == \"d\":\n",
    "                self.delete()\n",
    "                continue\n",
    "            elif menu == \"a\":\n",
    "                self.add()\n",
    "                continue\n",
    "            elif menu == \"q\":\n",
    "                print(f\"\\n{self.user},\\nHere is your final shopping cart:\")\n",
    "                print(self.cart)\n",
    "                print(\"Buy now and we'll throw in free shipping\")\n",
    "                break\n",
    "            else:\n",
    "                print(\"Please enter valid input\")\n",
    "                continue\n",
    "            break\n",
    "            \n",
    "\n",
    "user_cart = Cart(\"Brandt\") \n",
    "\n",
    "user_cart.menu()\n"
   ]
  },
  {
   "cell_type": "code",
   "execution_count": null,
   "id": "9b21cb54",
   "metadata": {
    "collapsed": true
   },
   "outputs": [],
   "source": []
  },
  {
   "cell_type": "code",
   "execution_count": null,
   "id": "2a59a812",
   "metadata": {},
   "outputs": [],
   "source": []
  },
  {
   "cell_type": "raw",
   "id": "627fb5a4",
   "metadata": {},
   "source": []
  },
  {
   "cell_type": "code",
   "execution_count": null,
   "id": "7c94b5e1",
   "metadata": {},
   "outputs": [],
   "source": [
    "# Exercise 2 - Write a Python class which has two methods get_String and print_String\n",
    "\n",
    "class GetAndPrint():\n",
    "    def __init__(self, string=\"\"):\n",
    "        self.string = string\n",
    "    \n",
    "    def get_string(self):\n",
    "        self.string = input(\"Enter string: \")\n",
    "        \n",
    "        \n",
    "    def print_string(self):\n",
    "        if self.string:\n",
    "            print(self.string.upper())\n",
    "        else:\n",
    "            print(\"no string entered\")\n",
    "            \n",
    "ins = GetAndPrint()\n",
    "\n",
    "ins.get_string()\n",
    "\n",
    "ins.print_string()\n",
    "            \n"
   ]
  }
 ],
 "metadata": {
  "kernelspec": {
   "display_name": "Python 3 (ipykernel)",
   "language": "python",
   "name": "python3"
  },
  "language_info": {
   "codemirror_mode": {
    "name": "ipython",
    "version": 3
   },
   "file_extension": ".py",
   "mimetype": "text/x-python",
   "name": "python",
   "nbconvert_exporter": "python",
   "pygments_lexer": "ipython3",
   "version": "3.10.9"
  }
 },
 "nbformat": 4,
 "nbformat_minor": 5
}
